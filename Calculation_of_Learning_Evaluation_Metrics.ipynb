{
  "cells": [
    {
      "cell_type": "markdown",
      "metadata": {
        "id": "view-in-github",
        "colab_type": "text"
      },
      "source": [
        "<a href=\"https://colab.research.google.com/github/FVRDaniel/Calculation-of-Learning-Evaluation-Metrics/blob/main/Calculation_of_Learning_Evaluation_Metrics.ipynb\" target=\"_parent\"><img src=\"https://colab.research.google.com/assets/colab-badge.svg\" alt=\"Open In Colab\"/></a>"
      ]
    },
    {
      "cell_type": "code",
      "execution_count": null,
      "metadata": {
        "id": "xxcNlNKhCAu2"
      },
      "outputs": [],
      "source": [
        "from tensorflow.keras import datasets, layers, models\n",
        "import matplotlib.pyplot as plt\n",
        "import tensorflow as tf\n",
        "\n",
        "import numpy as np\n",
        "import pandas as pd\n",
        "import seaborn as sns\n"
      ]
    },
    {
      "cell_type": "code",
      "execution_count": null,
      "metadata": {
        "colab": {
          "base_uri": "https://localhost:8080/",
          "height": 35
        },
        "id": "NbgUi4qeCnvl",
        "outputId": "82f63736-936b-4e45-ca5f-015427da4499"
      },
      "outputs": [
        {
          "output_type": "execute_result",
          "data": {
            "text/plain": [
              "'2.0.0-beta1'"
            ],
            "application/vnd.google.colaboratory.intrinsic+json": {
              "type": "string"
            }
          },
          "metadata": {},
          "execution_count": 2
        }
      ],
      "source": [
        "tf.__version__\n",
        "'2.0.0-beta1'"
      ]
    },
    {
      "cell_type": "code",
      "execution_count": null,
      "metadata": {
        "id": "DBfrXu_nD9Lr"
      },
      "outputs": [],
      "source": [
        "%load_ext tensorboard"
      ]
    },
    {
      "cell_type": "code",
      "execution_count": null,
      "metadata": {
        "id": "szSM1n1SEDRm"
      },
      "outputs": [],
      "source": [
        "logdir='log'"
      ]
    },
    {
      "cell_type": "code",
      "execution_count": null,
      "metadata": {
        "id": "Azh3n_zVEHDI",
        "colab": {
          "base_uri": "https://localhost:8080/"
        },
        "outputId": "fb550af7-0874-4e4a-e680-3b0f3feff43a"
      },
      "outputs": [
        {
          "output_type": "stream",
          "name": "stdout",
          "text": [
            "Downloading data from https://storage.googleapis.com/tensorflow/tf-keras-datasets/mnist.npz\n",
            "\u001b[1m11490434/11490434\u001b[0m \u001b[32m━━━━━━━━━━━━━━━━━━━━\u001b[0m\u001b[37m\u001b[0m \u001b[1m0s\u001b[0m 0us/step\n"
          ]
        }
      ],
      "source": [
        "(train_images, train_labels),(test_images, test_labels) = datasets.mnist.load_data()\n",
        "train_images = train_images.reshape ((60000, 28, 28, 1))\n",
        "test_images = test_images.reshape ((10000, 28, 28, 1))\n",
        "train_images, test_images = train_images / 255.0, test_images / 255.0\n",
        "\n",
        "classes=[0,1,2,3,4,5,6,7,8,9]"
      ]
    },
    {
      "cell_type": "code",
      "execution_count": null,
      "metadata": {
        "id": "2dshlVPuFIgo",
        "colab": {
          "base_uri": "https://localhost:8080/"
        },
        "outputId": "fff7ee3d-3835-4073-8ab9-4914309a98d1"
      },
      "outputs": [
        {
          "output_type": "stream",
          "name": "stderr",
          "text": [
            "/usr/local/lib/python3.11/dist-packages/keras/src/layers/convolutional/base_conv.py:107: UserWarning: Do not pass an `input_shape`/`input_dim` argument to a layer. When using Sequential models, prefer using an `Input(shape)` object as the first layer in the model instead.\n",
            "  super().__init__(activity_regularizer=activity_regularizer, **kwargs)\n"
          ]
        }
      ],
      "source": [
        "model = models.Sequential()\n",
        "model.add(layers.Conv2D(32, (3, 3), activation='relu', input_shape=(28, 28, 1)))\n",
        "model.add(layers.MaxPooling2D((2, 2)))\n",
        "model.add(layers.Conv2D(64, (3, 3), activation='relu'))\n",
        "model.add(layers.MaxPooling2D((2, 2)))\n",
        "model.add(layers.Conv2D(64, (3, 3), activation='relu'))\n",
        "\n",
        "model.add(layers.Flatten())\n",
        "model.add(layers.Dense(64, activation='relu'))\n",
        "model.add(layers.Dense(10, activation='softmax'))"
      ]
    },
    {
      "cell_type": "code",
      "source": [
        "tensorboard_callback = tf.keras.callbacks.TensorBoard(logdir, histogram_freq=1)\n",
        "model.compile(optimizer='adam',\n",
        "              loss='sparse_categorical_crossentropy',\n",
        "              metrics=['accuracy'])"
      ],
      "metadata": {
        "id": "c02meVtYmy5D"
      },
      "execution_count": null,
      "outputs": []
    },
    {
      "cell_type": "code",
      "source": [
        "model.compile(optimizer='adam',\n",
        "              loss='sparse_categorical_crossentropy',\n",
        "              metrics=['accuracy'])\n",
        "model.fit(train_images,\n",
        "          y=train_labels,\n",
        "          epochs=5,\n",
        "          validation_data=(test_images, test_labels))\n"
      ],
      "metadata": {
        "colab": {
          "base_uri": "https://localhost:8080/"
        },
        "id": "hWz3PQ46uLis",
        "outputId": "608168e9-c40e-4970-b013-7765e6805f6c"
      },
      "execution_count": null,
      "outputs": [
        {
          "output_type": "stream",
          "name": "stdout",
          "text": [
            "Epoch 1/5\n",
            "\u001b[1m1875/1875\u001b[0m \u001b[32m━━━━━━━━━━━━━━━━━━━━\u001b[0m\u001b[37m\u001b[0m \u001b[1m13s\u001b[0m 5ms/step - accuracy: 0.8947 - loss: 0.3404 - val_accuracy: 0.9828 - val_loss: 0.0517\n",
            "Epoch 2/5\n",
            "\u001b[1m1875/1875\u001b[0m \u001b[32m━━━━━━━━━━━━━━━━━━━━\u001b[0m\u001b[37m\u001b[0m \u001b[1m7s\u001b[0m 3ms/step - accuracy: 0.9850 - loss: 0.0485 - val_accuracy: 0.9851 - val_loss: 0.0441\n",
            "Epoch 3/5\n",
            "\u001b[1m1875/1875\u001b[0m \u001b[32m━━━━━━━━━━━━━━━━━━━━\u001b[0m\u001b[37m\u001b[0m \u001b[1m7s\u001b[0m 4ms/step - accuracy: 0.9900 - loss: 0.0341 - val_accuracy: 0.9872 - val_loss: 0.0370\n",
            "Epoch 4/5\n",
            "\u001b[1m1875/1875\u001b[0m \u001b[32m━━━━━━━━━━━━━━━━━━━━\u001b[0m\u001b[37m\u001b[0m \u001b[1m7s\u001b[0m 4ms/step - accuracy: 0.9922 - loss: 0.0242 - val_accuracy: 0.9911 - val_loss: 0.0265\n",
            "Epoch 5/5\n",
            "\u001b[1m1875/1875\u001b[0m \u001b[32m━━━━━━━━━━━━━━━━━━━━\u001b[0m\u001b[37m\u001b[0m \u001b[1m10s\u001b[0m 4ms/step - accuracy: 0.9937 - loss: 0.0197 - val_accuracy: 0.9918 - val_loss: 0.0271\n"
          ]
        },
        {
          "output_type": "execute_result",
          "data": {
            "text/plain": [
              "<keras.src.callbacks.history.History at 0x7bc641ba98d0>"
            ]
          },
          "metadata": {},
          "execution_count": 8
        }
      ]
    },
    {
      "cell_type": "code",
      "source": [
        "y_true=test_labels\n",
        "y_pred=model.predict(test_images)"
      ],
      "metadata": {
        "colab": {
          "base_uri": "https://localhost:8080/"
        },
        "id": "g-2K-ifmwubn",
        "outputId": "1c6620fd-d862-4ff2-8213-d1ae69a1d2ed"
      },
      "execution_count": null,
      "outputs": [
        {
          "output_type": "stream",
          "name": "stdout",
          "text": [
            "\u001b[1m313/313\u001b[0m \u001b[32m━━━━━━━━━━━━━━━━━━━━\u001b[0m\u001b[37m\u001b[0m \u001b[1m1s\u001b[0m 2ms/step\n"
          ]
        }
      ]
    },
    {
      "cell_type": "code",
      "source": [
        "classes=[0,1,2,3,4,5,6,7,8,9]"
      ],
      "metadata": {
        "id": "lAAUACWCxS-8"
      },
      "execution_count": null,
      "outputs": []
    },
    {
      "cell_type": "code",
      "source": [],
      "metadata": {
        "id": "vgGJDACUbGuo"
      },
      "execution_count": null,
      "outputs": []
    },
    {
      "cell_type": "code",
      "source": [
        "test_loss, test_acc = model.evaluate(test_images, test_labels, verbose=2)\n",
        "print(f'\\nTest accuracy: {test_acc}')\n",
        "\n",
        "# Fazer previsões\n",
        "predictions = model.predict(test_images)\n",
        "predicted_labels = np.argmax(predictions, axis=1)\n",
        "\n",
        "# Gerar a matriz de confusão\n",
        "confusion_matrix = tf.math.confusion_matrix(test_labels, predicted_labels)"
      ],
      "metadata": {
        "colab": {
          "base_uri": "https://localhost:8080/"
        },
        "id": "-_lzpdNVbMNM",
        "outputId": "0740200d-7fc2-4b47-f73d-37fe45e17c56"
      },
      "execution_count": null,
      "outputs": [
        {
          "output_type": "stream",
          "name": "stdout",
          "text": [
            "313/313 - 1s - 2ms/step - accuracy: 0.9918 - loss: 0.0271\n",
            "\n",
            "Test accuracy: 0.9918000102043152\n",
            "\u001b[1m313/313\u001b[0m \u001b[32m━━━━━━━━━━━━━━━━━━━━\u001b[0m\u001b[37m\u001b[0m \u001b[1m0s\u001b[0m 1ms/step\n"
          ]
        }
      ]
    },
    {
      "cell_type": "code",
      "source": [
        "plt.figure(figsize=(10, 8))\n",
        "sns.heatmap(confusion_matrix, annot=True, fmt='d', cmap='Blues')\n",
        "plt.xlabel('Predicted')\n",
        "plt.ylabel('True')\n",
        "plt.title('Confusion Matrix')\n",
        "plt.show()"
      ],
      "metadata": {
        "colab": {
          "base_uri": "https://localhost:8080/",
          "height": 570
        },
        "id": "8vAPp9eKbQoW",
        "outputId": "15f75cb6-f6b9-4a94-d49e-a50837caec77"
      },
      "execution_count": null,
      "outputs": [
        {
          "output_type": "display_data",
          "data": {
            "text/plain": [
              "<Figure size 1000x800 with 2 Axes>"
            ],
            "image/png": "[encoded data removed]"
          },
          "metadata": {}
        }
      ]
    },
    {
      "cell_type": "code",
      "source": [
        "from sklearn.metrics import confusion_matrix\n",
        "\n",
        "conf_matrix = confusion_matrix(test_labels, predicted_labels)\n"
      ],
      "metadata": {
        "id": "ZFfh6ldobkmU"
      },
      "execution_count": null,
      "outputs": []
    },
    {
      "cell_type": "code",
      "source": [
        "VP = np.diag(conf_matrix)\n",
        "FP = conf_matrix.sum(axis=0) - VP\n",
        "FN = conf_matrix.sum(axis=1) - VP\n",
        "VN = conf_matrix.sum() - (VP + FP + FN)"
      ],
      "metadata": {
        "id": "zNQhU0KPbxtM"
      },
      "execution_count": null,
      "outputs": []
    },
    {
      "cell_type": "code",
      "source": [
        "sensibilidade = VP / (VP + FN)\n",
        "especificidade = VN / (FP + VN)\n",
        "acuracia = (VP + VN) / conf_matrix.sum()\n",
        "precisao = VP / (VP + FP)\n",
        "f_score = 2 * (precisao * sensibilidade) / (precisao + sensibilidade)"
      ],
      "metadata": {
        "id": "aJyDM75fb08f"
      },
      "execution_count": null,
      "outputs": []
    },
    {
      "cell_type": "code",
      "source": [
        "for i in range(len(classes)):\n",
        "    print(f'Classe {classes[i]}:')\n",
        "    print(f'Sensibilidade: {sensibilidade[i]:.2f}')\n",
        "    print(f'Especificidade: {especificidade[i]:.2f}')\n",
        "    print(f'Acurácia: {acuracia[i]:.2f}')\n",
        "    print(f'Precisão: {precisao[i]:.2f}')\n",
        "    print(f'F-score: {f_score[i]:.2f}')\n",
        "    print('-' * 30)"
      ],
      "metadata": {
        "colab": {
          "base_uri": "https://localhost:8080/"
        },
        "id": "dmpbzm8Kb6wm",
        "outputId": "f6822983-c606-4af5-9257-35c7a37418b6"
      },
      "execution_count": null,
      "outputs": [
        {
          "output_type": "stream",
          "name": "stdout",
          "text": [
            "Classe 0:\n",
            "Sensibilidade: 0.99\n",
            "Especificidade: 1.00\n",
            "Acurácia: 1.00\n",
            "Precisão: 0.99\n",
            "F-score: 0.99\n",
            "------------------------------\n",
            "Classe 1:\n",
            "Sensibilidade: 1.00\n",
            "Especificidade: 1.00\n",
            "Acurácia: 1.00\n",
            "Precisão: 0.99\n",
            "F-score: 1.00\n",
            "------------------------------\n",
            "Classe 2:\n",
            "Sensibilidade: 0.99\n",
            "Especificidade: 1.00\n",
            "Acurácia: 1.00\n",
            "Precisão: 0.99\n",
            "F-score: 0.99\n",
            "------------------------------\n",
            "Classe 3:\n",
            "Sensibilidade: 0.99\n",
            "Especificidade: 1.00\n",
            "Acurácia: 1.00\n",
            "Precisão: 0.99\n",
            "F-score: 0.99\n",
            "------------------------------\n",
            "Classe 4:\n",
            "Sensibilidade: 1.00\n",
            "Especificidade: 1.00\n",
            "Acurácia: 1.00\n",
            "Precisão: 0.99\n",
            "F-score: 0.99\n",
            "------------------------------\n",
            "Classe 5:\n",
            "Sensibilidade: 0.99\n",
            "Especificidade: 1.00\n",
            "Acurácia: 1.00\n",
            "Precisão: 0.99\n",
            "F-score: 0.99\n",
            "------------------------------\n",
            "Classe 6:\n",
            "Sensibilidade: 0.99\n",
            "Especificidade: 1.00\n",
            "Acurácia: 1.00\n",
            "Precisão: 0.99\n",
            "F-score: 0.99\n",
            "------------------------------\n",
            "Classe 7:\n",
            "Sensibilidade: 0.99\n",
            "Especificidade: 1.00\n",
            "Acurácia: 1.00\n",
            "Precisão: 0.99\n",
            "F-score: 0.99\n",
            "------------------------------\n",
            "Classe 8:\n",
            "Sensibilidade: 0.99\n",
            "Especificidade: 1.00\n",
            "Acurácia: 1.00\n",
            "Precisão: 0.99\n",
            "F-score: 0.99\n",
            "------------------------------\n",
            "Classe 9:\n",
            "Sensibilidade: 0.99\n",
            "Especificidade: 1.00\n",
            "Acurácia: 1.00\n",
            "Precisão: 0.99\n",
            "F-score: 0.99\n",
            "------------------------------\n"
          ]
        }
      ]
    }
  ],
  "metadata": {
    "colab": {
      "provenance": [],
      "gpuType": "T4",
      "name": "Calculation of Learning Evaluation Metrics",
      "authorship_tag": "ABX9TyOUbwvWyqb/VbJGkJg6Rg2T",
      "include_colab_link": true
    },
    "kernelspec": {
      "display_name": "Python 3",
      "name": "python3"
    },
    "language_info": {
      "name": "python"
    },
    "accelerator": "GPU"
  },
  "nbformat": 4,
  "nbformat_minor": 0
}